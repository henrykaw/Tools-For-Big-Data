{
 "cells": [
  {
   "cell_type": "markdown",
   "metadata": {},
   "source": [
    "# week 3"
   ]
  },
  {
   "cell_type": "code",
   "execution_count": 28,
   "metadata": {
    "collapsed": true
   },
   "outputs": [],
   "source": [
    "# Loading the packages needed for this week\n",
    "import matplotlib.pyplot as plt\n",
    "import scipy as sp\n",
    "import scipy.interpolate \n",
    "import matplotlib.pyplot as plt\n",
    "from scipy import optimize\n",
    "import pandas as pd\n",
    "import numpy as np\n",
    "from __future__ import division\n",
    "import time"
   ]
  },
  {
   "cell_type": "markdown",
   "metadata": {},
   "source": [
    "### Excercise 3.1\n",
    "\n",
    "> Write a script which reads a matrix from a file like [this one](http://pastebin.com/XAhwshXe) and solves the linear matrix equation Ax=b where b is the last column of the input-matrix and A is the other columns. It is okay to use the solve()-function from numpy.linalg. Does the result make sense?"
   ]
  },
  {
   "cell_type": "code",
   "execution_count": 47,
   "metadata": {
    "collapsed": false
   },
   "outputs": [
    {
     "name": "stdout",
     "output_type": "stream",
     "text": [
      "The matrix from the file:\n",
      "[[ 1  2  3  4]\n",
      " [ 6  9 12  7]\n",
      " [ 2  0  9 10]]\n",
      "\n",
      "The result of linalg.solve:\n",
      "[[-5.09090909]\n",
      " [ 1.18181818]\n",
      " [ 2.24242424]]\n"
     ]
    }
   ],
   "source": [
    "#Opening the file\n",
    "file = open ( 'linear matrix.txt' , 'r')\n",
    "\n",
    "#Store each line of numbers within a list\n",
    "file_list = [ map(int,line.split(',')) for line in file ]\n",
    "\n",
    "#Create a matrix using the list\n",
    "np_matrix = np.matrix(file_list)\n",
    "print \"The matrix from the file:\"\n",
    "print np_matrix\n",
    "\n",
    "#Placing the last column in var b\n",
    "b = np_matrix[:, len(np_matrix)]\n",
    "\n",
    "#Placing the other colums in var a\n",
    "a = np_matrix[:,:-1]\n",
    "\n",
    "#use linalg.solve to solve the linear matrix equation\n",
    "print \n",
    "print \"The result of linalg.solve:\"\n",
    "print np.linalg.solve(a, b)"
   ]
  },
  {
   "cell_type": "markdown",
   "metadata": {},
   "source": [
    "Comparing the result with maple:\n",
    "<img src=\"MapleRel.png\" alt=\"Maple results\" style=\"width: 300px;\"/>\n",
    "\n",
    "The results are the same, meaning the result gotten from numpy is valid and make sense."
   ]
  },
  {
   "cell_type": "markdown",
   "metadata": {},
   "source": [
    "### Exercise 3.3\n",
    "\n",
    "> Do the first two exercises (Todo’s) at the bottom of http://byumcl.bitbucket.org/bootcamp2013/labs/pandas.html"
   ]
  },
  {
   "cell_type": "markdown",
   "metadata": {},
   "source": [
    "__First exercise__\n",
    "\n",
    "> Todo Using the movie-lens 1M data and pandas.read_table read in all three files (users, ratings, movies) into pandas DataFrames. I recommend giving columns names directly to read_table for each case.\n",
    "\n",
    "> HINT: you will need to open the files in a text editor to see what the separator character. Also, the columns for each file correspond to the following:\n",
    "\n",
    "\n",
    "> * users.dat: user id, gender, age, occupation code, zip\n",
    "> * ratings.dat: user id, movie id, rating, timestamp\n",
    "> * movies.dat: movie id, title, genre\n",
    "\n",
    ">Use the data combining tools discussed above to combine these three objects into a single object named movie_data"
   ]
  },
  {
   "cell_type": "code",
   "execution_count": 3,
   "metadata": {
    "collapsed": false,
    "scrolled": true
   },
   "outputs": [
    {
     "data": {
      "text/html": [
       "<div>\n",
       "<table border=\"1\" class=\"dataframe\">\n",
       "  <thead>\n",
       "    <tr style=\"text-align: right;\">\n",
       "      <th></th>\n",
       "      <th>user_id</th>\n",
       "      <th>movie_id</th>\n",
       "      <th>rating</th>\n",
       "      <th>timestamp</th>\n",
       "      <th>title</th>\n",
       "      <th>genre</th>\n",
       "      <th>gender</th>\n",
       "      <th>age</th>\n",
       "      <th>occupation_code</th>\n",
       "      <th>zip</th>\n",
       "    </tr>\n",
       "  </thead>\n",
       "  <tbody>\n",
       "    <tr>\n",
       "      <th>0</th>\n",
       "      <td>1</td>\n",
       "      <td>1193</td>\n",
       "      <td>5</td>\n",
       "      <td>978300760</td>\n",
       "      <td>One Flew Over the Cuckoo's Nest (1975)</td>\n",
       "      <td>Drama</td>\n",
       "      <td>F</td>\n",
       "      <td>1</td>\n",
       "      <td>10</td>\n",
       "      <td>48067</td>\n",
       "    </tr>\n",
       "    <tr>\n",
       "      <th>1</th>\n",
       "      <td>1</td>\n",
       "      <td>661</td>\n",
       "      <td>3</td>\n",
       "      <td>978302109</td>\n",
       "      <td>James and the Giant Peach (1996)</td>\n",
       "      <td>Animation|Children's|Musical</td>\n",
       "      <td>F</td>\n",
       "      <td>1</td>\n",
       "      <td>10</td>\n",
       "      <td>48067</td>\n",
       "    </tr>\n",
       "    <tr>\n",
       "      <th>2</th>\n",
       "      <td>1</td>\n",
       "      <td>914</td>\n",
       "      <td>3</td>\n",
       "      <td>978301968</td>\n",
       "      <td>My Fair Lady (1964)</td>\n",
       "      <td>Musical|Romance</td>\n",
       "      <td>F</td>\n",
       "      <td>1</td>\n",
       "      <td>10</td>\n",
       "      <td>48067</td>\n",
       "    </tr>\n",
       "  </tbody>\n",
       "</table>\n",
       "</div>"
      ],
      "text/plain": [
       "   user_id  movie_id  rating  timestamp  \\\n",
       "0        1      1193       5  978300760   \n",
       "1        1       661       3  978302109   \n",
       "2        1       914       3  978301968   \n",
       "\n",
       "                                    title                         genre  \\\n",
       "0  One Flew Over the Cuckoo's Nest (1975)                         Drama   \n",
       "1        James and the Giant Peach (1996)  Animation|Children's|Musical   \n",
       "2                     My Fair Lady (1964)               Musical|Romance   \n",
       "\n",
       "  gender  age  occupation_code    zip  \n",
       "0      F    1               10  48067  \n",
       "1      F    1               10  48067  \n",
       "2      F    1               10  48067  "
      ]
     },
     "execution_count": 3,
     "metadata": {},
     "output_type": "execute_result"
    }
   ],
   "source": [
    "#Opening the three files and save them in the memory using pandas\n",
    "# and state that the seperator for each value is ::\n",
    "with open('movies.dat') as file1:\n",
    "    df_movie = pd.read_table(file1, sep='::', header=None, names=['movie_id','title','genre'],lineterminator='\\n', engine='python')\n",
    "    \n",
    "with open('users.dat') as file2:\n",
    "    df_user = pd.read_table(file2, sep='::', header=None, names=['user_id', 'gender', 'age', 'occupation_code', 'zip'],lineterminator='\\n', engine='python')\n",
    "    \n",
    "with open('ratings.dat') as file3:\n",
    "    df_rating = pd.read_table(file3, sep='::', header=None, names=['user_id', 'movie_id', 'rating', 'timestamp'],lineterminator='\\n',engine='python')  \n",
    "\n",
    "#Using pandas to merge the dataframes together using columns they have in common\n",
    "df_rating_movie =pd.merge(df_rating, df_movie, on='movie_id')\n",
    "movie_data = pd.merge(df_rating_movie, df_user, on='user_id')\n",
    "movie_data.head(3)"
   ]
  },
  {
   "cell_type": "markdown",
   "metadata": {},
   "source": [
    "__Second exercise__\n",
    "> Todo Use the movie_data object from the previous exercise and compute the following things:\n",
    "\n",
    "> 1.The 5 movies with the most number of ratings"
   ]
  },
  {
   "cell_type": "code",
   "execution_count": 4,
   "metadata": {
    "collapsed": false
   },
   "outputs": [
    {
     "data": {
      "text/plain": [
       "title\n",
       "American Beauty (1999)                                   3428\n",
       "Star Wars: Episode IV - A New Hope (1977)                2991\n",
       "Star Wars: Episode V - The Empire Strikes Back (1980)    2990\n",
       "Star Wars: Episode VI - Return of the Jedi (1983)        2883\n",
       "Jurassic Park (1993)                                     2672\n",
       "Name: rating, dtype: int64"
      ]
     },
     "execution_count": 4,
     "metadata": {},
     "output_type": "execute_result"
    }
   ],
   "source": [
    "#Remove unnecessary data columns\n",
    "movie_data = movie_data.drop(['age', 'occupation_code', 'zip','timestamp','genre'],axis=1)\n",
    "\n",
    "#First we use groupby on title and then rating, so\n",
    "#we are able to count the number of ratings for each movie title \n",
    "movie_data_gb = movie_data.groupby(['title'])\n",
    "movie_data_gb = movie_data_gb['rating']\n",
    "movie_rating = movie_data_gb.agg('count')\n",
    "movie_rating.sort_values(0,inplace=True, ascending = False)\n",
    "movie_rating.head(5)"
   ]
  },
  {
   "cell_type": "markdown",
   "metadata": {},
   "source": [
    "> 2.A new object called active_titles that is made up of movies each having at least 250 ratings"
   ]
  },
  {
   "cell_type": "code",
   "execution_count": 6,
   "metadata": {
    "collapsed": false
   },
   "outputs": [
    {
     "data": {
      "text/plain": [
       "title\n",
       "Man Who Knew Too Little, The (1997)                               252\n",
       "Teenage Mutant Ninja Turtles II: The Secret of the Ooze (1991)    251\n",
       "Presidio, The (1988)                                              251\n",
       "Wes Craven's New Nightmare (1994)                                 251\n",
       "Top Hat (1935)                                                    251\n",
       "Name: rating, dtype: int64"
      ]
     },
     "execution_count": 6,
     "metadata": {},
     "output_type": "execute_result"
    }
   ],
   "source": [
    "#Making a new object which have all title with count \n",
    "# of at least 250 ratings.\n",
    "active_titles = movie_rating[movie_rating > 250]\n",
    "\n",
    "#The list is sorted, so we just have to print the last 5 to lowest\n",
    "#count of ratings in the object.\n",
    "active_titles.tail(5)"
   ]
  },
  {
   "cell_type": "markdown",
   "metadata": {},
   "source": [
    "> 3.For the subset of movies in the active_titles list compute the following:\n",
    "\n",
    "> * The 3 movies with the highest average rating for females. Do the same for males."
   ]
  },
  {
   "cell_type": "code",
   "execution_count": 14,
   "metadata": {
    "collapsed": false
   },
   "outputs": [],
   "source": [
    "#Use the same method as above in order to calculate\n",
    "#the mean and count the amount of ratings.\n",
    "temp_gb = movie_data.groupby(['gender','title'])\n",
    "temp_gb = temp_gb['rating']\n",
    "temp_gb = temp_gb.agg(['count','mean']).reset_index()\n",
    "\n",
    "#Remove movie titles with less than 250 ratings.\n",
    "temp_gb = temp_gb[temp_gb['count']>250 ]\n",
    "\n",
    "#Remove the 'count' columns because it is not needed anymore \n",
    "temp_gb = temp_gb.drop('count',axis=1)\n",
    "\n",
    "#Make two dataframes one with male and one with female ratings\n",
    "#and sort them based on the 'mean'.\n",
    "female_ratings = temp_gb[temp_gb['gender']=='F']\n",
    "female_ratings_sorted = female_ratings.sort_values('mean', ascending = False)\n",
    "male_ratings = temp_gb[temp_gb['gender']=='M']\n",
    "male_ratings_sorted = male_ratings.sort_values('mean', ascending = False)"
   ]
  },
  {
   "cell_type": "code",
   "execution_count": 15,
   "metadata": {
    "collapsed": false
   },
   "outputs": [
    {
     "data": {
      "text/html": [
       "<div>\n",
       "<table border=\"1\" class=\"dataframe\">\n",
       "  <thead>\n",
       "    <tr style=\"text-align: right;\">\n",
       "      <th></th>\n",
       "      <th>gender</th>\n",
       "      <th>title</th>\n",
       "      <th>mean</th>\n",
       "    </tr>\n",
       "  </thead>\n",
       "  <tbody>\n",
       "    <tr>\n",
       "      <th>2736</th>\n",
       "      <td>F</td>\n",
       "      <td>Schindler's List (1993)</td>\n",
       "      <td>4.562602</td>\n",
       "    </tr>\n",
       "    <tr>\n",
       "      <th>2800</th>\n",
       "      <td>F</td>\n",
       "      <td>Shawshank Redemption, The (1994)</td>\n",
       "      <td>4.539075</td>\n",
       "    </tr>\n",
       "    <tr>\n",
       "      <th>3185</th>\n",
       "      <td>F</td>\n",
       "      <td>To Kill a Mockingbird (1962)</td>\n",
       "      <td>4.536667</td>\n",
       "    </tr>\n",
       "  </tbody>\n",
       "</table>\n",
       "</div>"
      ],
      "text/plain": [
       "     gender                             title      mean\n",
       "2736      F           Schindler's List (1993)  4.562602\n",
       "2800      F  Shawshank Redemption, The (1994)  4.539075\n",
       "3185      F      To Kill a Mockingbird (1962)  4.536667"
      ]
     },
     "execution_count": 15,
     "metadata": {},
     "output_type": "execute_result"
    }
   ],
   "source": [
    "#printing the top 3 movies\n",
    "female_ratings_sorted.head(3)"
   ]
  },
  {
   "cell_type": "code",
   "execution_count": 16,
   "metadata": {
    "collapsed": false
   },
   "outputs": [
    {
     "data": {
      "text/html": [
       "<div>\n",
       "<table border=\"1\" class=\"dataframe\">\n",
       "  <thead>\n",
       "    <tr style=\"text-align: right;\">\n",
       "      <th></th>\n",
       "      <th>gender</th>\n",
       "      <th>title</th>\n",
       "      <th>mean</th>\n",
       "    </tr>\n",
       "  </thead>\n",
       "  <tbody>\n",
       "    <tr>\n",
       "      <th>4821</th>\n",
       "      <td>M</td>\n",
       "      <td>Godfather, The (1972)</td>\n",
       "      <td>4.583333</td>\n",
       "    </tr>\n",
       "    <tr>\n",
       "      <th>6394</th>\n",
       "      <td>M</td>\n",
       "      <td>Seven Samurai (The Magnificent Seven) (Shichin...</td>\n",
       "      <td>4.576628</td>\n",
       "    </tr>\n",
       "    <tr>\n",
       "      <th>6424</th>\n",
       "      <td>M</td>\n",
       "      <td>Shawshank Redemption, The (1994)</td>\n",
       "      <td>4.560625</td>\n",
       "    </tr>\n",
       "  </tbody>\n",
       "</table>\n",
       "</div>"
      ],
      "text/plain": [
       "     gender                                              title      mean\n",
       "4821      M                              Godfather, The (1972)  4.583333\n",
       "6394      M  Seven Samurai (The Magnificent Seven) (Shichin...  4.576628\n",
       "6424      M                   Shawshank Redemption, The (1994)  4.560625"
      ]
     },
     "execution_count": 16,
     "metadata": {},
     "output_type": "execute_result"
    }
   ],
   "source": [
    "male_ratings_sorted.head(3)"
   ]
  },
  {
   "cell_type": "markdown",
   "metadata": {},
   "source": [
    "> * The 10 movies men liked much more than women and the 10 movies women liked more than men (use the difference in average ratings and sort ascending and descending)."
   ]
  },
  {
   "cell_type": "code",
   "execution_count": 17,
   "metadata": {
    "collapsed": true
   },
   "outputs": [],
   "source": [
    "#Removing the column 'gender'\n",
    "female_ratings_sorted = female_ratings_sorted.drop(['gender'],axis=1)\n",
    "male_ratings_sorted = male_ratings_sorted.drop('gender',axis=1)\n",
    "\n",
    "#Renaming the columns\n",
    "female_ratings_sorted.columns.values[1] = 'Female average'\n",
    "male_ratings_sorted.columns.values[1] = 'Male average'\n",
    "#Setting the data frames index to be the movie titles\n",
    "female_ratings_sorted = female_ratings_sorted.set_index('title')\n",
    "male_ratings_sorted = male_ratings_sorted.set_index('title')\n",
    "\n",
    "#Merge the dataframes based on the index\n",
    "male_vs_female = pd.concat([female_ratings_sorted, male_ratings_sorted], axis=1)"
   ]
  },
  {
   "cell_type": "code",
   "execution_count": 19,
   "metadata": {
    "collapsed": false
   },
   "outputs": [
    {
     "data": {
      "text/html": [
       "<div>\n",
       "<table border=\"1\" class=\"dataframe\">\n",
       "  <thead>\n",
       "    <tr style=\"text-align: right;\">\n",
       "      <th></th>\n",
       "      <th>Female average</th>\n",
       "      <th>Male average</th>\n",
       "    </tr>\n",
       "  </thead>\n",
       "  <tbody>\n",
       "    <tr>\n",
       "      <th>10 Things I Hate About You (1999)</th>\n",
       "      <td>NaN</td>\n",
       "      <td>3.311966</td>\n",
       "    </tr>\n",
       "    <tr>\n",
       "      <th>101 Dalmatians (1961)</th>\n",
       "      <td>NaN</td>\n",
       "      <td>3.500000</td>\n",
       "    </tr>\n",
       "    <tr>\n",
       "      <th>12 Angry Men (1957)</th>\n",
       "      <td>NaN</td>\n",
       "      <td>4.328421</td>\n",
       "    </tr>\n",
       "    <tr>\n",
       "      <th>13th Warrior, The (1999)</th>\n",
       "      <td>NaN</td>\n",
       "      <td>3.168000</td>\n",
       "    </tr>\n",
       "    <tr>\n",
       "      <th>20,000 Leagues Under the Sea (1954)</th>\n",
       "      <td>NaN</td>\n",
       "      <td>3.709205</td>\n",
       "    </tr>\n",
       "    <tr>\n",
       "      <th>2001: A Space Odyssey (1968)</th>\n",
       "      <td>3.825581</td>\n",
       "      <td>4.129738</td>\n",
       "    </tr>\n",
       "    <tr>\n",
       "      <th>2010 (1984)</th>\n",
       "      <td>NaN</td>\n",
       "      <td>3.413712</td>\n",
       "    </tr>\n",
       "    <tr>\n",
       "      <th>28 Days (2000)</th>\n",
       "      <td>NaN</td>\n",
       "      <td>2.977707</td>\n",
       "    </tr>\n",
       "    <tr>\n",
       "      <th>Absent Minded Professor, The (1961)</th>\n",
       "      <td>NaN</td>\n",
       "      <td>3.446809</td>\n",
       "    </tr>\n",
       "    <tr>\n",
       "      <th>Absolute Power (1997)</th>\n",
       "      <td>NaN</td>\n",
       "      <td>3.327759</td>\n",
       "    </tr>\n",
       "  </tbody>\n",
       "</table>\n",
       "</div>"
      ],
      "text/plain": [
       "                                     Female average  Male average\n",
       "10 Things I Hate About You (1999)               NaN      3.311966\n",
       "101 Dalmatians (1961)                           NaN      3.500000\n",
       "12 Angry Men (1957)                             NaN      4.328421\n",
       "13th Warrior, The (1999)                        NaN      3.168000\n",
       "20,000 Leagues Under the Sea (1954)             NaN      3.709205\n",
       "2001: A Space Odyssey (1968)               3.825581      4.129738\n",
       "2010 (1984)                                     NaN      3.413712\n",
       "28 Days (2000)                                  NaN      2.977707\n",
       "Absent Minded Professor, The (1961)             NaN      3.446809\n",
       "Absolute Power (1997)                           NaN      3.327759"
      ]
     },
     "execution_count": 19,
     "metadata": {},
     "output_type": "execute_result"
    }
   ],
   "source": [
    "#Printing the current dataframes\n",
    "male_vs_female.head(10)"
   ]
  },
  {
   "cell_type": "markdown",
   "metadata": {},
   "source": [
    " On the dataframes above can it be seen that some columns will contain *NaN* and to plot the difference in average rating, it is needed to have two values. Therefore will all rows containing at least one *NaN* be removed."
   ]
  },
  {
   "cell_type": "code",
   "execution_count": 20,
   "metadata": {
    "collapsed": true
   },
   "outputs": [],
   "source": [
    "#Removing all rows with 'NaN'\n",
    "male_vs_female = male_vs_female.dropna(axis=0,how='any')"
   ]
  },
  {
   "cell_type": "code",
   "execution_count": 21,
   "metadata": {
    "collapsed": true
   },
   "outputs": [],
   "source": [
    "#Adding a new column to the dataframes which express the difference between female average\n",
    "#and male average.\n",
    "male_vs_female['Diff'] = male_vs_female['Female average'] - male_vs_female['Male average'] "
   ]
  },
  {
   "cell_type": "code",
   "execution_count": 22,
   "metadata": {
    "collapsed": false
   },
   "outputs": [
    {
     "data": {
      "text/html": [
       "<div>\n",
       "<table border=\"1\" class=\"dataframe\">\n",
       "  <thead>\n",
       "    <tr style=\"text-align: right;\">\n",
       "      <th></th>\n",
       "      <th>Female average</th>\n",
       "      <th>Male average</th>\n",
       "      <th>Diff</th>\n",
       "    </tr>\n",
       "  </thead>\n",
       "  <tbody>\n",
       "    <tr>\n",
       "      <th>Animal House (1978)</th>\n",
       "      <td>3.628906</td>\n",
       "      <td>4.167192</td>\n",
       "      <td>-0.538286</td>\n",
       "    </tr>\n",
       "    <tr>\n",
       "      <th>South Park: Bigger, Longer and Uncut (1999)</th>\n",
       "      <td>3.422481</td>\n",
       "      <td>3.846686</td>\n",
       "      <td>-0.424206</td>\n",
       "    </tr>\n",
       "    <tr>\n",
       "      <th>Airplane! (1980)</th>\n",
       "      <td>3.656566</td>\n",
       "      <td>4.064419</td>\n",
       "      <td>-0.407854</td>\n",
       "    </tr>\n",
       "    <tr>\n",
       "      <th>Godfather: Part II, The (1974)</th>\n",
       "      <td>4.040936</td>\n",
       "      <td>4.437778</td>\n",
       "      <td>-0.396842</td>\n",
       "    </tr>\n",
       "    <tr>\n",
       "      <th>Aliens (1986)</th>\n",
       "      <td>3.802083</td>\n",
       "      <td>4.186684</td>\n",
       "      <td>-0.384601</td>\n",
       "    </tr>\n",
       "    <tr>\n",
       "      <th>Terminator 2: Judgment Day (1991)</th>\n",
       "      <td>3.785088</td>\n",
       "      <td>4.115367</td>\n",
       "      <td>-0.330279</td>\n",
       "    </tr>\n",
       "    <tr>\n",
       "      <th>Alien (1979)</th>\n",
       "      <td>3.888252</td>\n",
       "      <td>4.216119</td>\n",
       "      <td>-0.327867</td>\n",
       "    </tr>\n",
       "    <tr>\n",
       "      <th>Terminator, The (1984)</th>\n",
       "      <td>3.899729</td>\n",
       "      <td>4.205899</td>\n",
       "      <td>-0.306170</td>\n",
       "    </tr>\n",
       "    <tr>\n",
       "      <th>Groundhog Day (1993)</th>\n",
       "      <td>3.735562</td>\n",
       "      <td>4.041358</td>\n",
       "      <td>-0.305796</td>\n",
       "    </tr>\n",
       "    <tr>\n",
       "      <th>2001: A Space Odyssey (1968)</th>\n",
       "      <td>3.825581</td>\n",
       "      <td>4.129738</td>\n",
       "      <td>-0.304156</td>\n",
       "    </tr>\n",
       "  </tbody>\n",
       "</table>\n",
       "</div>"
      ],
      "text/plain": [
       "                                             Female average  Male average  \\\n",
       "Animal House (1978)                                3.628906      4.167192   \n",
       "South Park: Bigger, Longer and Uncut (1999)        3.422481      3.846686   \n",
       "Airplane! (1980)                                   3.656566      4.064419   \n",
       "Godfather: Part II, The (1974)                     4.040936      4.437778   \n",
       "Aliens (1986)                                      3.802083      4.186684   \n",
       "Terminator 2: Judgment Day (1991)                  3.785088      4.115367   \n",
       "Alien (1979)                                       3.888252      4.216119   \n",
       "Terminator, The (1984)                             3.899729      4.205899   \n",
       "Groundhog Day (1993)                               3.735562      4.041358   \n",
       "2001: A Space Odyssey (1968)                       3.825581      4.129738   \n",
       "\n",
       "                                                 Diff  \n",
       "Animal House (1978)                         -0.538286  \n",
       "South Park: Bigger, Longer and Uncut (1999) -0.424206  \n",
       "Airplane! (1980)                            -0.407854  \n",
       "Godfather: Part II, The (1974)              -0.396842  \n",
       "Aliens (1986)                               -0.384601  \n",
       "Terminator 2: Judgment Day (1991)           -0.330279  \n",
       "Alien (1979)                                -0.327867  \n",
       "Terminator, The (1984)                      -0.306170  \n",
       "Groundhog Day (1993)                        -0.305796  \n",
       "2001: A Space Odyssey (1968)                -0.304156  "
      ]
     },
     "execution_count": 22,
     "metadata": {},
     "output_type": "execute_result"
    }
   ],
   "source": [
    "#Sorting the dataframe based on 'Diff'\n",
    "male_vs_female_sorted = male_vs_female.sort_values(by='Diff',ascending=True)\n",
    "#Printing the 10 movies the males likes much more than the females\n",
    "male_vs_female_sorted.head(10)"
   ]
  },
  {
   "cell_type": "code",
   "execution_count": 23,
   "metadata": {
    "collapsed": false
   },
   "outputs": [
    {
     "data": {
      "text/html": [
       "<div>\n",
       "<table border=\"1\" class=\"dataframe\">\n",
       "  <thead>\n",
       "    <tr style=\"text-align: right;\">\n",
       "      <th></th>\n",
       "      <th>Female average</th>\n",
       "      <th>Male average</th>\n",
       "      <th>Diff</th>\n",
       "    </tr>\n",
       "  </thead>\n",
       "  <tbody>\n",
       "    <tr>\n",
       "      <th>Much Ado About Nothing (1993)</th>\n",
       "      <td>4.224335</td>\n",
       "      <td>3.853960</td>\n",
       "      <td>0.370374</td>\n",
       "    </tr>\n",
       "    <tr>\n",
       "      <th>Strictly Ballroom (1992)</th>\n",
       "      <td>4.174342</td>\n",
       "      <td>3.768817</td>\n",
       "      <td>0.405525</td>\n",
       "    </tr>\n",
       "    <tr>\n",
       "      <th>Pretty in Pink (1986)</th>\n",
       "      <td>3.619772</td>\n",
       "      <td>3.211628</td>\n",
       "      <td>0.408144</td>\n",
       "    </tr>\n",
       "    <tr>\n",
       "      <th>Sense and Sensibility (1995)</th>\n",
       "      <td>4.233333</td>\n",
       "      <td>3.819277</td>\n",
       "      <td>0.414056</td>\n",
       "    </tr>\n",
       "    <tr>\n",
       "      <th>Gone with the Wind (1939)</th>\n",
       "      <td>4.269841</td>\n",
       "      <td>3.829371</td>\n",
       "      <td>0.440471</td>\n",
       "    </tr>\n",
       "    <tr>\n",
       "      <th>Sound of Music, The (1965)</th>\n",
       "      <td>4.233677</td>\n",
       "      <td>3.783418</td>\n",
       "      <td>0.450259</td>\n",
       "    </tr>\n",
       "    <tr>\n",
       "      <th>Mary Poppins (1964)</th>\n",
       "      <td>4.197740</td>\n",
       "      <td>3.730594</td>\n",
       "      <td>0.467147</td>\n",
       "    </tr>\n",
       "    <tr>\n",
       "      <th>Rocky Horror Picture Show, The (1975)</th>\n",
       "      <td>3.673016</td>\n",
       "      <td>3.160131</td>\n",
       "      <td>0.512885</td>\n",
       "    </tr>\n",
       "    <tr>\n",
       "      <th>Grease (1978)</th>\n",
       "      <td>3.975265</td>\n",
       "      <td>3.367041</td>\n",
       "      <td>0.608224</td>\n",
       "    </tr>\n",
       "    <tr>\n",
       "      <th>Dirty Dancing (1987)</th>\n",
       "      <td>3.790378</td>\n",
       "      <td>2.959596</td>\n",
       "      <td>0.830782</td>\n",
       "    </tr>\n",
       "  </tbody>\n",
       "</table>\n",
       "</div>"
      ],
      "text/plain": [
       "                                       Female average  Male average      Diff\n",
       "Much Ado About Nothing (1993)                4.224335      3.853960  0.370374\n",
       "Strictly Ballroom (1992)                     4.174342      3.768817  0.405525\n",
       "Pretty in Pink (1986)                        3.619772      3.211628  0.408144\n",
       "Sense and Sensibility (1995)                 4.233333      3.819277  0.414056\n",
       "Gone with the Wind (1939)                    4.269841      3.829371  0.440471\n",
       "Sound of Music, The (1965)                   4.233677      3.783418  0.450259\n",
       "Mary Poppins (1964)                          4.197740      3.730594  0.467147\n",
       "Rocky Horror Picture Show, The (1975)        3.673016      3.160131  0.512885\n",
       "Grease (1978)                                3.975265      3.367041  0.608224\n",
       "Dirty Dancing (1987)                         3.790378      2.959596  0.830782"
      ]
     },
     "execution_count": 23,
     "metadata": {},
     "output_type": "execute_result"
    }
   ],
   "source": [
    "#printing the 10 movies the females likes much more than the males\n",
    "male_vs_female_sorted.tail(10)"
   ]
  },
  {
   "cell_type": "markdown",
   "metadata": {},
   "source": [
    "> * The 5 movies that had the highest standard deviation in rating."
   ]
  },
  {
   "cell_type": "code",
   "execution_count": 27,
   "metadata": {
    "collapsed": false
   },
   "outputs": [
    {
     "data": {
      "text/html": [
       "<div>\n",
       "<table border=\"1\" class=\"dataframe\">\n",
       "  <thead>\n",
       "    <tr style=\"text-align: right;\">\n",
       "      <th></th>\n",
       "      <th>std</th>\n",
       "    </tr>\n",
       "    <tr>\n",
       "      <th>title</th>\n",
       "      <th></th>\n",
       "    </tr>\n",
       "  </thead>\n",
       "  <tbody>\n",
       "    <tr>\n",
       "      <th>Dumb &amp; Dumber (1994)</th>\n",
       "      <td>1.321333</td>\n",
       "    </tr>\n",
       "    <tr>\n",
       "      <th>Blair Witch Project, The (1999)</th>\n",
       "      <td>1.316368</td>\n",
       "    </tr>\n",
       "    <tr>\n",
       "      <th>Natural Born Killers (1994)</th>\n",
       "      <td>1.307198</td>\n",
       "    </tr>\n",
       "    <tr>\n",
       "      <th>Tank Girl (1995)</th>\n",
       "      <td>1.277695</td>\n",
       "    </tr>\n",
       "    <tr>\n",
       "      <th>Rocky Horror Picture Show, The (1975)</th>\n",
       "      <td>1.260177</td>\n",
       "    </tr>\n",
       "  </tbody>\n",
       "</table>\n",
       "</div>"
      ],
      "text/plain": [
       "                                            std\n",
       "title                                          \n",
       "Dumb & Dumber (1994)                   1.321333\n",
       "Blair Witch Project, The (1999)        1.316368\n",
       "Natural Born Killers (1994)            1.307198\n",
       "Tank Girl (1995)                       1.277695\n",
       "Rocky Horror Picture Show, The (1975)  1.260177"
      ]
     },
     "execution_count": 27,
     "metadata": {},
     "output_type": "execute_result"
    }
   ],
   "source": [
    "#Using groupby again\n",
    "temp_gb = movie_data.groupby(['title'])\n",
    "temp_gb = temp_gb['rating']\n",
    "#Calculating the std\n",
    "movie_std = temp_gb.agg(['count','std']).reset_index()\n",
    "movie_std.sort_values('std',inplace=True, ascending = False)\n",
    "#Removing movies with count under 250\n",
    "movie_std = movie_std[movie_std['count']>250 ]\n",
    "movie_std = movie_std.drop('count', axis=1)\n",
    "movie_std = movie_std.set_index('title')\n",
    "\n",
    "#Printing the 5 movies with highest std\n",
    "movie_std.head(5)"
   ]
  },
  {
   "cell_type": "markdown",
   "metadata": {},
   "source": [
    "### Exercise 3.4\n",
    "\n",
    "> Last week you read in a dataset for [this Kaggle competition](https://www.kaggle.com/c/random-acts-of-pizza) and created a bag-of-words representation on the review strings. Train a logistic regression classifier for the competition using your bag-of-words features (and possibly some of the others) to predict the variable “requester_received_pizza”. For this exercise, you might want to work a little bit more on your code from last week. Use 90% of the data as training data and 10% as test data.\n",
    "\n",
    "> If you don’t know anything about machine learning, try to Google a bit and figure out what training and test data is, and how you train a classifier.\n",
    "\n",
    ">How good is your classifier? Discuss the performance of the classifier."
   ]
  },
  {
   "cell_type": "code",
   "execution_count": null,
   "metadata": {
    "collapsed": true
   },
   "outputs": [],
   "source": []
  },
  {
   "cell_type": "markdown",
   "metadata": {},
   "source": [
    "### Exercise 3.5\n",
    "\n",
    "> Write a simple Python function for computing the sum $\\frac{1}{1^2} + \\frac{1}{2^2} + \\frac{1}{3^2} + \\ldots$ with 10,000 terms (this should be around 1.644), 500 times in a row (to make the execution time measurable). Now compile the code with Cython and see how much speedup you can achieve by this. Remember to declare your variable types."
   ]
  },
  {
   "cell_type": "code",
   "execution_count": 29,
   "metadata": {
    "collapsed": true
   },
   "outputs": [],
   "source": [
    "#Loading the Cython module\n",
    "%load_ext Cython"
   ]
  },
  {
   "cell_type": "code",
   "execution_count": 30,
   "metadata": {
    "collapsed": false
   },
   "outputs": [
    {
     "name": "stdout",
     "output_type": "stream",
     "text": [
      "[1.6448340718480652, 1.6448340718480652, 1.6448340718480652, 1.6448340718480652, 1.6448340718480652, 1.6448340718480652, 1.6448340718480652, 1.6448340718480652, 1.6448340718480652, 1.6448340718480652]\n",
      "--- 0.655879020691 seconds ---\n"
     ]
    }
   ],
   "source": [
    "def pythonCalculate():\n",
    "    temp_num = 0\n",
    "    start_time = time.time()\n",
    "    cal_list = []\n",
    "    for i in range (1,501):\n",
    "        for i in range(1,10001):\n",
    "            temp_num = temp_num + 1/(i**2)\n",
    "        cal_list.append(temp_num)\n",
    "        temp_num =0\n",
    "    print cal_list[:10]\n",
    "    return(\"--- %s seconds ---\" % (time.time() - start_time))\n",
    "print pythonCalculate()"
   ]
  },
  {
   "cell_type": "code",
   "execution_count": 31,
   "metadata": {
    "collapsed": false
   },
   "outputs": [
    {
     "name": "stdout",
     "output_type": "stream",
     "text": [
      "[1.6448340718480652, 1.6448340718480652, 1.6448340718480652, 1.6448340718480652, 1.6448340718480652, 1.6448340718480652, 1.6448340718480652, 1.6448340718480652, 1.6448340718480652, 1.6448340718480652]\n",
      "--- 0.358963012695 seconds ---\n"
     ]
    }
   ],
   "source": [
    "%%cython\n",
    "from __future__ import division\n",
    "import time\n",
    "def cythonCalculate():\n",
    "    cdef temp_num = 0\n",
    "    cdef start_time = time.time()\n",
    "    cdef cal_list = []\n",
    "    for i in range (1,501):\n",
    "        for i in range(1,10001):\n",
    "            temp_num = temp_num + 1/(i**2)\n",
    "        cal_list.append(temp_num)\n",
    "        temp_num =0\n",
    "    print cal_list[:10]\n",
    "    return (\"--- %s seconds ---\" % (time.time() - start_time))\n",
    "print cythonCalculate()"
   ]
  },
  {
   "cell_type": "markdown",
   "metadata": {},
   "source": [
    "At the beginning of the code are the variables initialize and the start time for the code is saved. The loop __for i in range(1,10001)__ have the same functionality as $\\sum_{i=1}^{10000} \\frac{1}{i^2}$ and __for i in range (1,501):__ runs the previous loop 500 times and add the results to a list. When the loops are completed then the function will print the last 10 results in order to reduce repeating numbers and then return the time spent on running the function by taking the current time minus the start time.\n",
    "\n",
    "Based on the results then there is difference of 0.297 seconds or 54% in run time between Cython and Python."
   ]
  }
 ],
 "metadata": {
  "kernelspec": {
   "display_name": "Python 2",
   "language": "python",
   "name": "python2"
  }
 },
 "nbformat": 4,
 "nbformat_minor": 0
}
