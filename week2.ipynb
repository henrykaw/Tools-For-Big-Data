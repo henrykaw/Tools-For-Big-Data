{
 "cells": [
  {
   "cell_type": "markdown",
   "metadata": {},
   "source": [
    "# week 2\n",
    "\n",
    "### Exercise 2.1\n",
    "\n",
    "> Write a script with two methods. The first method should read in a matrix like the one here and return a list of lists. The second method should do the inverse, namely take, as input, a list of lists and save it in a file with same format as the initial file. The first method should take the file name as a parameter. The second method should take two arguments, the list of lists, and a filename of where to save the output.\n",
    "\n",
    "The first method simply reads in a file called Matrix.txt as shown below \n",
    "the second method takes the return value of the first method and changes it into a matrix and reads it in again. \n"
   ]
  },
  {
   "cell_type": "code",
   "execution_count": 75,
   "metadata": {
    "collapsed": false,
    "scrolled": true
   },
   "outputs": [
    {
     "name": "stdout",
     "output_type": "stream",
     "text": [
      "1 2 3 4\n",
      "1 2 3 4\n",
      "1 2 3 4\n",
      "result of method listToMatrix:[['1', '2', '3', '4'], ['1', '2', '3', '4'], ['1', '2', '3', '4']]\n",
      "1 2 3 4\n",
      "1 2 3 4\n",
      "1 2 3 4\n"
     ]
    }
   ],
   "source": [
    "f=open('matrix.txt')\n",
    "print f.read()\n",
    "\n",
    "#first method that takes a file called matrix.txt and returns a list of list.\n",
    "def listToMatrix(filename):\n",
    "    matrix = open(filename, 'r')\n",
    "#here the matrix is converted to list of list.\n",
    "    listoflists = [line.split() for line in matrix.readlines()]\n",
    "    return listoflists\n",
    "\n",
    "#Calling the method and printing it\n",
    "print 'result of method listToMatrix:' + str(listToMatrix('matrix.txt'))\n",
    "\n",
    "#method 2 which takes a list of lists as input and returns a file with the same input as matrix.txt\n",
    "def matrixList(listobject, outputfile):\n",
    "    fout=open(outputfile, 'r+')\n",
    "    for i in range(len(listobject)):\n",
    "#change listobject into integers         \n",
    "        listint = [int(i) for i in listobject[i]] \n",
    "#replacing the brackets etc. with space ' '.\n",
    "        listmatrix = ' '.join(map(str, listint))\n",
    "#writing to the file adding new line for every row.\n",
    "        fout.write(listmatrix + '\\n')\n",
    "#just printing to show cntent of file - could have done it in many ways - this was just easiest.    \n",
    "        print listmatrix\n",
    "    fout.close()\n",
    "\n",
    "    \n",
    "#declaring the object listoftest as listoflist from method above       \n",
    "listoftest = listToMatrix('matrix.txt')\n",
    "matrixList(listoftest, 'listMatrix.txt')\n",
    "\n",
    "\n"
   ]
  },
  {
   "cell_type": "markdown",
   "metadata": {
    "collapsed": true
   },
   "source": [
    "### Exercise 2.2\n",
    "\n",
    ">Write a script that takes an integer N, and outputs all bit-strings of length N as lists. For example: 3 -> [0,0,0], [0,0,1],[0,1,0],[0,1,1],[1,0,0],[1,0,1],[1,1,0],[1,1,1]. As a sanity check, remember that there are 2^N such lists.\n",
    "Do not use the bin-function in Python. Do not use strings at all. Do not import anything. Try to solve this using only lists, integers, if-statements, loops and functions."
   ]
  },
  {
   "cell_type": "code",
   "execution_count": 54,
   "metadata": {
    "collapsed": false
   },
   "outputs": [
    {
     "name": "stdout",
     "output_type": "stream",
     "text": [
      "For the number 2:\n",
      "[[0, 0, 0, 0], [0, 0, 0, 1], [0, 0, 1, 0], [0, 0, 1, 1], [0, 1, 0, 0], [0, 1, 0, 1], [0, 1, 1, 0], [0, 1, 1, 1], [1, 0, 0, 0], [1, 0, 0, 1], [1, 0, 1, 0], [1, 0, 1, 1], [1, 1, 0, 0], [1, 1, 0, 1], [1, 1, 1, 0], [1, 1, 1, 1]]\n",
      "The length\n",
      "16\n"
     ]
    }
   ],
   "source": [
    "#This function convert a int to bit\n",
    "#e.g. tobin(2) gives [1,0] and tobin(1) gives [1]\n",
    "def tobin(x):\n",
    "    return tobin(x/2) + [x%2] if x > 1 else [x]\n",
    "\n",
    "#This function takes a list and fill it with zeros\n",
    "#untill the list is at the length of n.\n",
    "# filbin()\n",
    "def filbin(temp_bin, bin_length):\n",
    "    while (len(temp_bin) < bin_length):\n",
    "        temp_bin.insert(0,0)\n",
    "    return temp_bin\n",
    "\n",
    "# this function utilize the two functions above to print the bit combination of length n\n",
    "def allbin(n):\n",
    "    bin_length = n\n",
    "    bin_list = []\n",
    "    i = 0\n",
    "    while (i < 2**n):\n",
    "        temp_bin = tobin(i)\n",
    "        if (len(temp_bin) < bin_length):\n",
    "            filbin(temp_bin, bin_length)\n",
    "        bin_list.append(temp_bin)\n",
    "        i = i+1\n",
    "    \n",
    "    return bin_list\n",
    "\n",
    "print 'For the number 2:'+ '\\n' + str(allbin(4)) + '\\n'+'The length' + '\\n' + str(len(allbin(4))) \n"
   ]
  },
  {
   "cell_type": "markdown",
   "metadata": {
    "collapsed": true
   },
   "source": [
    "### Exercise 2.3\n",
    "\n",
    ">Write a script that takes this file (from this Kaggle competition), extracts the request_text field from each dictionary in the list, and construct a bag of words representation of the string (string to count-list).\n",
    "There should be one row pr. text. The matrix should be N x M where N is the number of texts and M is the number of distinct words in all the texts.\n",
    "The result should be a list of lists ([[0,1,0],[1,0,0]] is a matrix with two rows and three columns).\n",
    "\n",
    "Approach:\n",
    "1. First we define a method that cleans the text\n",
    "2. Then we read the file\n",
    "3. Define an empty list to contain the data from the file\n",
    "4. Create an index\n",
    "5. Added words to bag of word representing them as a string to count list\n",
    "6. Create the result matrix\n",
    "7. Added the distinct number of words to the result matrix\n",
    "\n",
    "See comment below in code as well"
   ]
  },
  {
   "cell_type": "code",
   "execution_count": 1,
   "metadata": {
    "collapsed": false
   },
   "outputs": [],
   "source": [
    "import json\n",
    "import re\n",
    "\n",
    "def cleaningText (text):\n",
    "    # 1. Remove non-letters        \n",
    "    letters = re.sub(\"[^a-zA-Z]\", \" \", text) \n",
    "    words = letters.lower().split()                             \n",
    "    return words \n",
    "\n",
    "\n",
    "# Reading json file and assigning it to a value data\n",
    "with open('pizza-train.json') as json_file:    \n",
    "  data = json.load(json_file)\n",
    "\n",
    "# creating and initialize an empty list to hold the cleaned data \n",
    "CleanDataDic = {}\n",
    "num_reviews = len(data)  \n",
    "\n",
    "\n"
   ]
  },
  {
   "cell_type": "code",
   "execution_count": 2,
   "metadata": {
    "collapsed": false
   },
   "outputs": [
    {
     "name": "stdout",
     "output_type": "stream",
     "text": [
      "Cleaning and parsing text...\n",
      "\n",
      "number of words are : 12103\n",
      "\n",
      "the creation of the matrix is complete\n",
      "the length of the matrix is48896120\n"
     ]
    }
   ],
   "source": [
    "# Looping over each record, then creating an index i from 0 to the length of the file\n",
    "print \"Cleaning and parsing text...\\n\"\n",
    "for i in xrange(0,num_reviews):\n",
    "    cleanedData = cleaningText(data[i]['request_text'])\n",
    "    request_id = data[i]['request_id']\n",
    "    CleanDataDic[request_id]=cleanedData\n",
    "\n",
    "\n",
    "    \n",
    "bagOfWords = set()    \n",
    "# creating a holder for the result\n",
    "result = []\n",
    "#create the length of the dictionary\n",
    "numbOfDic = len(CleanDataDic)\n",
    "#add elements to bagOfWords\n",
    "for value in CleanDataDic.itervalues():\n",
    "    for item in value:\n",
    "        bagOfWords.add(item)\n",
    "\n",
    "numberOfWords = len(bagOfWords)\n",
    "print 'number of words are : ' + str(numberOfWords) + '\\n'\n",
    "#adding the distinct number of words to the result matrix\n",
    "for item in bagOfWords:\n",
    "    i = 0\n",
    "    for value in CleanDataDic.itervalues():    \n",
    "        valueList = []\n",
    "        valueList.append(i)\n",
    "        #valueList.append(j)\n",
    "        valueList.append(value.count(item))\n",
    "        result.append(valueList)\n",
    "        i +=1\n",
    "print 'the creation of the matrix is complete'        \n",
    "\n",
    "print 'the length of the matrix is : ' + str(len(result))       \n",
    "#if wanting to print the entire matrix : use the call below\n",
    "#print result"
   ]
  },
  {
   "cell_type": "markdown",
   "metadata": {},
   "source": [
    "Instead of printing the entire matrix, we have printet some examples and the length and the number of words. the computation time is also quite large for printing the entire matrix. The examples below show the index of the text and the distinct words it has.  "
   ]
  },
  {
   "cell_type": "code",
   "execution_count": 6,
   "metadata": {
    "collapsed": false
   },
   "outputs": [
    {
     "name": "stdout",
     "output_type": "stream",
     "text": [
      "The length of the listof list matrix is: 48896120\n",
      "[20, 0]\n",
      "[1910, 0]\n",
      "[3021, 2]\n",
      "[1442, 1]\n",
      "This is the list of distinct words for list result[3021]\n",
      "2\n"
     ]
    }
   ],
   "source": [
    "print 'The length of the listof list matrix is: ' + str(len(result))\n",
    "# printet examples of elements in the result. \n",
    "print result[20]\n",
    "print result[86750]\n",
    "print result[3021]\n",
    "print result[1442]\n",
    "# the distinct words are counted using this below- an example for the \n",
    "print 'This is the list of distinct words for list result[3021]'\n",
    "print CleanDataDic.get('t3_n1r1p').count(list(bagOfWords)[0])\n"
   ]
  },
  {
   "cell_type": "code",
   "execution_count": null,
   "metadata": {
    "collapsed": true
   },
   "outputs": [],
   "source": []
  }
 ],
 "metadata": {
  "anaconda-cloud": {},
  "kernelspec": {
   "display_name": "Python [Root]",
   "language": "python",
   "name": "Python [Root]"
  },
  "language_info": {
   "codemirror_mode": {
    "name": "ipython",
    "version": 2
   },
   "file_extension": ".py",
   "mimetype": "text/x-python",
   "name": "python",
   "nbconvert_exporter": "python",
   "pygments_lexer": "ipython2",
   "version": "2.7.12"
  }
 },
 "nbformat": 4,
 "nbformat_minor": 0
}
